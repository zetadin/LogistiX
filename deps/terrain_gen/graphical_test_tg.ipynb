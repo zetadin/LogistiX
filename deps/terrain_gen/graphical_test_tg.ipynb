{
 "cells": [
  {
   "cell_type": "code",
   "execution_count": 1,
   "id": "96e44ac9",
   "metadata": {},
   "outputs": [],
   "source": [
    "import sys, os\n",
    "sys.path.append(os.path.join(os.getcwd(), 'build'))\n",
    "import terraingen as tg\n",
    "import numpy as np\n",
    "from matplotlib import pyplot as plt"
   ]
  },
  {
   "cell_type": "code",
   "execution_count": 2,
   "id": "1daafd2f",
   "metadata": {},
   "outputs": [
    {
     "name": "stdout",
     "output_type": "stream",
     "text": [
      "(2500,) (2500,)\n"
     ]
    }
   ],
   "source": [
    "size = 50\n",
    "\n",
    "# size is the width of a hex, so 2*a (where a is thelattice constant)\n",
    "h = 0.5*np.sqrt(3)        # half of hex height in a\n",
    "n_x = size                # num hexes in x\n",
    "n_y = np.floor(size/h)    # num hexes in y\n",
    "\n",
    "# map hex ids for a square map\n",
    "m_x = np.arange(0,n_x).astype(np.int32)\n",
    "m_y = np.arange(0,n_y).astype(np.int32)\n",
    "\n",
    "# real space coords\n",
    "r_temp_x = np.linspace(0,size,size, endpoint=False).astype(np.float32)\n",
    "r_temp_y = np.linspace(0,size,size, endpoint=False).astype(np.float32)\n",
    "r_x, r_y = np.meshgrid(r_temp_x, r_temp_y)\n",
    "# print(r_y)\n",
    "r_y[:,1::2] += h   # y of every other column is shifted by h\n",
    "# print(r_y)\n",
    "r_x=r_x.flatten()\n",
    "r_y=r_y.flatten()\n",
    "\n",
    "print(r_x.shape, r_y.shape)"
   ]
  },
  {
   "cell_type": "code",
   "execution_count": null,
   "id": "13738ad5",
   "metadata": {},
   "outputs": [],
   "source": [
    "gen=tg.Generator()\n",
    "gen.setSeed(444)\n",
    "gen.setFreq(0.001)\n",
    "\n",
    "# Island\n",
    "v = gen.getTerrain(r_x, r_y, int(1), float(size), True)\n",
    "print(v)\n",
    "\n",
    "# plt.scatter(r_x, r_y, c=v[0])\n",
    "# plt.show()"
   ]
  },
  {
   "cell_type": "code",
   "execution_count": null,
   "id": "aaf5c8c0",
   "metadata": {},
   "outputs": [],
   "source": []
  }
 ],
 "metadata": {
  "kernelspec": {
   "display_name": "Python 3 (ipykernel)",
   "language": "python",
   "name": "python3"
  },
  "language_info": {
   "codemirror_mode": {
    "name": "ipython",
    "version": 3
   },
   "file_extension": ".py",
   "mimetype": "text/x-python",
   "name": "python",
   "nbconvert_exporter": "python",
   "pygments_lexer": "ipython3",
   "version": "3.8.10"
  }
 },
 "nbformat": 4,
 "nbformat_minor": 5
}
